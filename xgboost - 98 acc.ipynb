{
 "cells": [
  {
   "cell_type": "code",
   "execution_count": 2,
   "metadata": {},
   "outputs": [],
   "source": [
    "import numpy as np\n",
    "import pandas as pd\n",
    "from numpy import loadtxt\n",
    "from xgboost import XGBClassifier\n",
    "from sklearn.model_selection import train_test_split\n",
    "from sklearn.metrics import accuracy_score"
   ]
  },
  {
   "cell_type": "code",
   "execution_count": 3,
   "metadata": {},
   "outputs": [],
   "source": [
    "url = 'https://raw.githubusercontent.com/rdazmn/FYP/master/ML-MATT-CompetitionQT1920_train2.csv'\n",
    "url2 = 'https://raw.githubusercontent.com/rdazmn/FYP/master/ML-MATT-CompetitionQT1920_test.csv'\n",
    "data = pd.read_csv(url, error_bad_lines=False)\n",
    "data_test =pd.read_csv(url2,error_bad_lines=False)"
   ]
  },
  {
   "cell_type": "code",
   "execution_count": 4,
   "metadata": {},
   "outputs": [],
   "source": [
    "#Change object to float64\n",
    "\n",
    "data['Time'] = pd.to_datetime(data['Time'],format='%H:%M').dt.hour\n",
    "data['maxUE_UL_DL'] = pd.to_numeric(data['maxUE_UL_DL'],errors='coerce')"
   ]
  },
  {
   "cell_type": "code",
   "execution_count": 5,
   "metadata": {},
   "outputs": [],
   "source": [
    "#Data cleaning\n",
    "data['maxUE_DL'] = data['maxUE_DL'].replace(np.nan, 0)\n",
    "data['maxUE_UL'] = data['maxUE_UL'].replace(np.nan, 0)\n",
    "data['maxUE_UL_DL'] = data['maxUE_UL_DL'].replace('#¡VALOR!',0)\n",
    "data['maxUE_UL_DL'] = data['maxUE_UL_DL'].replace(np.nan,0)"
   ]
  },
  {
   "cell_type": "code",
   "execution_count": 6,
   "metadata": {},
   "outputs": [
    {
     "data": {
      "text/plain": [
       "Time           False\n",
       "CellName       False\n",
       "PRBUsageUL     False\n",
       "PRBUsageDL     False\n",
       "meanThr_DL     False\n",
       "meanThr_UL     False\n",
       "maxThr_DL      False\n",
       "maxThr_UL      False\n",
       "meanUE_DL      False\n",
       "meanUE_UL      False\n",
       "maxUE_DL       False\n",
       "maxUE_UL       False\n",
       "maxUE_UL_DL    False\n",
       "Unusual        False\n",
       "dtype: bool"
      ]
     },
     "execution_count": 6,
     "metadata": {},
     "output_type": "execute_result"
    }
   ],
   "source": [
    "#Check if the data is still has missing value\n",
    "data.isna().any()"
   ]
  },
  {
   "cell_type": "code",
   "execution_count": 7,
   "metadata": {},
   "outputs": [
    {
     "name": "stdout",
     "output_type": "stream",
     "text": [
      "Size: (36904, 14)\n",
      "               Time    PRBUsageUL    PRBUsageDL    meanThr_DL    meanThr_UL  \\\n",
      "count  36904.000000  36904.000000  36904.000000  36904.000000  36904.000000   \n",
      "mean      11.338283      7.835090      2.106396      0.560525      0.067610   \n",
      "std        6.892336      8.428206      2.247514      0.727623      0.186555   \n",
      "min        0.000000      0.000000      0.000000      0.000000      0.000000   \n",
      "25%        5.000000      1.213000      0.707000      0.140000      0.021000   \n",
      "50%       11.000000      4.547000      1.314000      0.352000      0.040000   \n",
      "75%       17.000000     12.126000      2.728000      0.718000      0.075000   \n",
      "max       23.000000     51.333000     77.505000     19.601000     12.461000   \n",
      "\n",
      "          maxThr_DL     maxThr_UL     meanUE_DL     meanUE_UL      maxUE_DL  \\\n",
      "count  36904.000000  36904.000000  36904.000000  36904.000000  36904.000000   \n",
      "mean      17.764369      1.791974      1.173441      0.665143      4.180712   \n",
      "std       15.739932      5.028928      0.214065      0.535493      1.782239   \n",
      "min        0.000000      0.000000      0.000000      0.000000      0.000000   \n",
      "25%        5.710750      0.362000      1.041000      0.010000      3.000000   \n",
      "50%       14.170000      0.703000      1.112000      1.011000      4.000000   \n",
      "75%       25.059500      1.242000      1.263000      1.051000      5.000000   \n",
      "max      140.008000     48.253000      2.915000      2.668000     12.000000   \n",
      "\n",
      "           maxUE_UL   maxUE_UL_DL       Unusual  \n",
      "count  36904.000000  36904.000000  36904.000000  \n",
      "mean       3.055983      7.236695      0.275932  \n",
      "std        1.393894      3.069693      0.446989  \n",
      "min        0.000000      0.000000      0.000000  \n",
      "25%        2.000000      5.000000      0.000000  \n",
      "50%        3.000000      7.000000      0.000000  \n",
      "75%        4.000000      9.000000      1.000000  \n",
      "max       12.000000     23.000000      1.000000  \n"
     ]
    }
   ],
   "source": [
    "print(\"Size: {}\".format(data.shape))\n",
    "print(data.describe())"
   ]
  },
  {
   "cell_type": "code",
   "execution_count": 8,
   "metadata": {},
   "outputs": [],
   "source": [
    "x = data.iloc[:, 2:13].values\n",
    "y = data.iloc[:, 13].values"
   ]
  },
  {
   "cell_type": "code",
   "execution_count": 9,
   "metadata": {},
   "outputs": [],
   "source": [
    "# split data into train and test sets\n",
    "seed = 7\n",
    "test_size = 0.33\n",
    "X_train, X_test, y_train, y_test = train_test_split(x, y, test_size=test_size, random_state=seed)"
   ]
  },
  {
   "cell_type": "code",
   "execution_count": 10,
   "metadata": {},
   "outputs": [
    {
     "data": {
      "text/plain": [
       "XGBClassifier(base_score=0.5, booster='gbtree', colsample_bylevel=1,\n",
       "              colsample_bynode=1, colsample_bytree=1, gamma=0, gpu_id=-1,\n",
       "              importance_type='gain', interaction_constraints='',\n",
       "              learning_rate=0.300000012, max_delta_step=0, max_depth=6,\n",
       "              min_child_weight=1, missing=nan, monotone_constraints='()',\n",
       "              n_estimators=100, n_jobs=0, num_parallel_tree=1, random_state=0,\n",
       "              reg_alpha=0, reg_lambda=1, scale_pos_weight=1, subsample=1,\n",
       "              tree_method='exact', validate_parameters=1, verbosity=None)"
      ]
     },
     "execution_count": 10,
     "metadata": {},
     "output_type": "execute_result"
    }
   ],
   "source": [
    "# fit model no training data\n",
    "model = XGBClassifier()\n",
    "model.fit(X_train, y_train)"
   ]
  },
  {
   "cell_type": "code",
   "execution_count": 11,
   "metadata": {},
   "outputs": [],
   "source": [
    "\n",
    "# make predictions for test data\n",
    "y_pred = model.predict(X_test)\n",
    "predictions = [round(value) for value in y_pred]"
   ]
  },
  {
   "cell_type": "code",
   "execution_count": 12,
   "metadata": {},
   "outputs": [
    {
     "name": "stdout",
     "output_type": "stream",
     "text": [
      "Accuracy: 98.69%\n"
     ]
    }
   ],
   "source": [
    "# evaluate predictions\n",
    "accuracy = accuracy_score(y_test, predictions)\n",
    "print(\"Accuracy: %.2f%%\" % (accuracy * 100.0))"
   ]
  }
 ],
 "metadata": {
  "kernelspec": {
   "display_name": "Python 3",
   "language": "python",
   "name": "python3"
  },
  "language_info": {
   "codemirror_mode": {
    "name": "ipython",
    "version": 3
   },
   "file_extension": ".py",
   "mimetype": "text/x-python",
   "name": "python",
   "nbconvert_exporter": "python",
   "pygments_lexer": "ipython3",
   "version": "3.8.5"
  }
 },
 "nbformat": 4,
 "nbformat_minor": 4
}
